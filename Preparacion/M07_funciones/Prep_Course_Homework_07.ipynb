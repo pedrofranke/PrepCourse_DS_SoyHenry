{
 "cells": [
  {
   "attachments": {},
   "cell_type": "markdown",
   "metadata": {},
   "source": [
    "## Funciones"
   ]
  },
  {
   "attachments": {},
   "cell_type": "markdown",
   "metadata": {},
   "source": [
    "1) Crear una función que reciba un número como parámetro y devuelva True si es primo y False si no lo es"
   ]
  },
  {
   "cell_type": "code",
   "execution_count": 18,
   "metadata": {},
   "outputs": [
    {
     "name": "stdout",
     "output_type": "stream",
     "text": [
      "True\n"
     ]
    }
   ],
   "source": [
    "def primo(x):\n",
    "    r = 1\n",
    "    for i in range(2,x):\n",
    "        r *= x%i\n",
    "    if r ==0:\n",
    "        return False\n",
    "    else:\n",
    "        return True\n",
    "\n",
    "print(primo(7))"
   ]
  },
  {
   "attachments": {},
   "cell_type": "markdown",
   "metadata": {},
   "source": [
    "2) Utilizando la función del punto 1, realizar otra función que reciba de parámetro una lista de números y devuelva sólo aquellos que son primos en otra lista"
   ]
  },
  {
   "cell_type": "code",
   "execution_count": 35,
   "metadata": {},
   "outputs": [
    {
     "name": "stdout",
     "output_type": "stream",
     "text": [
      "[0, 1, 2, 3, 5, 7, 11]\n",
      "1\n",
      "2\n"
     ]
    }
   ],
   "source": [
    "def seleccion_primo(x):\n",
    "    y = []\n",
    "    for i in x:\n",
    "        r = 1\n",
    "        for j in range(2,i):\n",
    "            r *= i%j\n",
    "        if r != 0:\n",
    "            y.append(i)\n",
    "    return y\n",
    "\n",
    "print(seleccion_primo([0,1,2,3,4,5,6,7,8,9,10,11]))\n",
    "\n",
    "dic = {1:2,2:3}\n",
    "for i in dic:\n",
    "    print(i)"
   ]
  },
  {
   "attachments": {},
   "cell_type": "markdown",
   "metadata": {},
   "source": [
    "3) Crear una función que al recibir una lista de números, devuelva el que más se repite y cuántas veces lo hace. Si hay más de un \"más repetido\", que devuelva cualquiera"
   ]
  },
  {
   "cell_type": "code",
   "execution_count": 2,
   "metadata": {},
   "outputs": [
    {
     "name": "stdout",
     "output_type": "stream",
     "text": [
      "El numero mas repetido es 8 , se repitio 6 veces\n"
     ]
    }
   ],
   "source": [
    "def moda(x):\n",
    "    dic = {}\n",
    "    for i in x:\n",
    "        amount = 0\n",
    "        for j in x:\n",
    "            if j == i:\n",
    "                amount +=1\n",
    "        dic[i] = amount\n",
    "    max = 0\n",
    "    for i in dic:\n",
    "        if dic[i] > max:\n",
    "            max = dic[i]\n",
    "            ind_max = i\n",
    "    return ind_max,max\n",
    "\n",
    "b = [1,2,3,4,1,5,1,6,2,6,3,8,4,8,8,8,8,8]\n",
    "a = moda(b)\n",
    "\n",
    "print(\"El numero mas repetido es\", a[0], \", se repitio\", a[1],\"veces\")\n",
    "\n"
   ]
  },
  {
   "attachments": {},
   "cell_type": "markdown",
   "metadata": {},
   "source": [
    "4) Crear una función que convierta entre grados Celsius, Farenheit y Kelvin<br>\n",
    "Fórmula 1\t: (°C × 9/5) + 32 = °F<br>\n",
    "Fórmula 2\t: °C + 273.15 = °K<br>\n",
    "Debe recibir 3 parámetros: el valor, la medida de orígen y la medida de destino\n"
   ]
  },
  {
   "cell_type": "code",
   "execution_count": 69,
   "metadata": {},
   "outputs": [
    {
     "name": "stdout",
     "output_type": "stream",
     "text": [
      "273.15\n"
     ]
    }
   ],
   "source": [
    "def conversor_temperaturas(valor, origen, destino):\n",
    "    if origen == \"C\":\n",
    "        if destino == \"K\":\n",
    "            valor_final = valor + 273.15\n",
    "        else:\n",
    "            valor_final = valor*9/5 + 32\n",
    "    elif origen == \"K\":\n",
    "        if destino == \"C\":\n",
    "            valor_final = valor - 273.15\n",
    "        else:\n",
    "            valor_final = (valor - 273.15)*(9/5) +32\n",
    "    else:\n",
    "        if destino ==\"C\":\n",
    "            valor_final = (valor - 32)/(9/5)\n",
    "        else:\n",
    "            valor_final = (valor - 32)/(9/5) + 273.15\n",
    "    return valor_final\n",
    "\n",
    "a = conversor_temperaturas(32,\"F\",\"K\")\n",
    "\n",
    "print(a)"
   ]
  },
  {
   "attachments": {},
   "cell_type": "markdown",
   "metadata": {},
   "source": [
    "5) Iterando una lista con los tres valores posibles de temperatura que recibe la función del punto 5, hacer un print para cada combinación de los mismos:"
   ]
  },
  {
   "cell_type": "code",
   "execution_count": 70,
   "metadata": {},
   "outputs": [
    {
     "name": "stdout",
     "output_type": "stream",
     "text": [
      "De C a F con 32 grados da 89.6\n",
      "De C a K con 32 grados da 305.15\n",
      "De F a C con 32 grados da 0.0\n",
      "De F a K con 32 grados da 273.15\n",
      "De K a C con 32 grados da -241.14999999999998\n",
      "De K a F con 32 grados da -402.07\n"
     ]
    }
   ],
   "source": [
    "metricas = [\"C\",\"F\",\"K\"]\n",
    "\n",
    "for i in metricas:\n",
    "    for j in metricas:\n",
    "        if i == j:\n",
    "            continue\n",
    "        print(\"De\",i,\"a\",j,\"con 32 grados da\",conversor_temperaturas(32,i,j))\n",
    "        "
   ]
  },
  {
   "attachments": {},
   "cell_type": "markdown",
   "metadata": {},
   "source": [
    "6) Armar una función que devuelva el factorial de un número. Tener en cuenta que el usuario puede equivocarse y enviar de parámetro un número no entero o negativo"
   ]
  },
  {
   "cell_type": "code",
   "execution_count": 92,
   "metadata": {},
   "outputs": [
    {
     "name": "stdout",
     "output_type": "stream",
     "text": [
      "93326215443944152681699238856266700490715968264381621468592963895217599993229915608941463976156518286253697920827223758251185210916864000000000000000000000000\n"
     ]
    }
   ],
   "source": [
    "def fact(x):\n",
    "    if not(type(x) == int):\n",
    "        print(\"El valor no es factorizable\")\n",
    "    elif x == 1:\n",
    "        return 1\n",
    "    elif x < 1:\n",
    "        print(\"El numero debe ser positivo\")\n",
    "    else:\n",
    "        x = x * fact(x - 1)\n",
    "    return x\n",
    "\n",
    "print(fact(100))"
   ]
  }
 ],
 "metadata": {
  "interpreter": {
   "hash": "c85384e4cb51c8b72350f3a8712cc8351fdc3955e32a27f9b60c6242ab125f01"
  },
  "kernelspec": {
   "display_name": "Python 3 (ipykernel)",
   "language": "python",
   "name": "python3"
  },
  "language_info": {
   "codemirror_mode": {
    "name": "ipython",
    "version": 3
   },
   "file_extension": ".py",
   "mimetype": "text/x-python",
   "name": "python",
   "nbconvert_exporter": "python",
   "pygments_lexer": "ipython3",
   "version": "3.11.4"
  }
 },
 "nbformat": 4,
 "nbformat_minor": 4
}
