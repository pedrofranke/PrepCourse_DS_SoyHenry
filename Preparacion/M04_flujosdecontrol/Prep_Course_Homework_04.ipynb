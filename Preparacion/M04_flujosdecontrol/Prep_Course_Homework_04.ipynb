{
 "cells": [
  {
   "attachments": {},
   "cell_type": "markdown",
   "metadata": {},
   "source": [
    "## Flujos de Control"
   ]
  },
  {
   "attachments": {},
   "cell_type": "markdown",
   "metadata": {},
   "source": [
    "1) Crear una variable que contenga un elemento del conjunto de números enteros y luego imprimir por pantalla si es mayor o menor a cero"
   ]
  },
  {
   "cell_type": "code",
   "execution_count": 1,
   "metadata": {},
   "outputs": [
    {
     "name": "stdout",
     "output_type": "stream",
     "text": [
      "Es 0\n"
     ]
    }
   ],
   "source": [
    "x = 0\n",
    "if x>0:\n",
    "    print(\"Es mayor a 0\")\n",
    "elif x<0:\n",
    "    print(\"Es menor a 0\")\n",
    "else:\n",
    "    print(\"Es 0\")\n"
   ]
  },
  {
   "attachments": {},
   "cell_type": "markdown",
   "metadata": {},
   "source": [
    "2) Crear dos variables y un condicional que informe si son del mismo tipo de dato"
   ]
  },
  {
   "cell_type": "code",
   "execution_count": null,
   "metadata": {},
   "outputs": [],
   "source": [
    "y = \"String\"\n",
    "if type(x)==type(y):\n",
    "    print(\"Son el mismo tipo de dato\")\n",
    "else:\n",
    "    print(\"Son tipos de dato distintos\")\n",
    "\n",
    "    "
   ]
  },
  {
   "attachments": {},
   "cell_type": "markdown",
   "metadata": {},
   "source": [
    "3) Para los valores enteros del 1 al 20, imprimir por pantalla si es par o impar"
   ]
  },
  {
   "cell_type": "code",
   "execution_count": null,
   "metadata": {},
   "outputs": [],
   "source": [
    "for i in range(1,21):\n",
    "    if i%2==0:\n",
    "        print(\"El numero\", i, \"es par\")\n",
    "    else:\n",
    "        print(\"El numero\", i, \"es impar\")"
   ]
  },
  {
   "attachments": {},
   "cell_type": "markdown",
   "metadata": {},
   "source": [
    "4) En un ciclo for mostrar para los valores entre 0 y 5 el resultado de elevarlo a la potencia igual a 3"
   ]
  },
  {
   "cell_type": "code",
   "execution_count": null,
   "metadata": {},
   "outputs": [],
   "source": [
    "for i in range(5):\n",
    "    print(i**3)"
   ]
  },
  {
   "attachments": {},
   "cell_type": "markdown",
   "metadata": {},
   "source": [
    "5) Crear una variable que contenga un número entero y realizar un ciclo for la misma cantidad de ciclos"
   ]
  },
  {
   "cell_type": "code",
   "execution_count": null,
   "metadata": {},
   "outputs": [],
   "source": [
    "x = 5\n",
    "for i in range(x):\n",
    "    print(i)"
   ]
  },
  {
   "attachments": {},
   "cell_type": "markdown",
   "metadata": {},
   "source": [
    "6) Utilizar un ciclo while para realizar el factorial de un número guardado en una variable, sólo si la variable contiene un número entero mayor a 0"
   ]
  },
  {
   "cell_type": "code",
   "execution_count": null,
   "metadata": {},
   "outputs": [],
   "source": [
    "g = 9\n",
    "i = 1\n",
    "r = 1\n",
    "for i in range(1,g+1):\n",
    "    r *= i\n",
    "  \n",
    "print(r)\n",
    "\n"
   ]
  },
  {
   "attachments": {},
   "cell_type": "markdown",
   "metadata": {},
   "source": [
    "7) Crear un ciclo for dentro de un ciclo while"
   ]
  },
  {
   "cell_type": "code",
   "execution_count": null,
   "metadata": {},
   "outputs": [],
   "source": [
    "i = 0\n",
    "while i < 10:\n",
    "    for j in range(12):\n",
    "        i += j\n",
    "print(i)"
   ]
  },
  {
   "attachments": {},
   "cell_type": "markdown",
   "metadata": {},
   "source": [
    "8) Crear un ciclo while dentro de un ciclo for"
   ]
  },
  {
   "cell_type": "code",
   "execution_count": 38,
   "metadata": {},
   "outputs": [
    {
     "name": "stdout",
     "output_type": "stream",
     "text": [
      "0\n"
     ]
    }
   ],
   "source": [
    "print(4%2)"
   ]
  },
  {
   "cell_type": "markdown",
   "metadata": {},
   "source": []
  },
  {
   "attachments": {},
   "cell_type": "markdown",
   "metadata": {},
   "source": [
    "9) Imprimir los números primos existentes entre 0 y 30"
   ]
  },
  {
   "cell_type": "code",
   "execution_count": 46,
   "metadata": {},
   "outputs": [
    {
     "name": "stdout",
     "output_type": "stream",
     "text": [
      "0 es un numero primo\n",
      "1 es un numero primo\n",
      "2 es un numero primo\n",
      "3 es un numero primo\n",
      "5 es un numero primo\n",
      "7 es un numero primo\n",
      "11 es un numero primo\n",
      "13 es un numero primo\n",
      "17 es un numero primo\n",
      "19 es un numero primo\n",
      "23 es un numero primo\n",
      "29 es un numero primo\n"
     ]
    }
   ],
   "source": [
    "for i in range(30):\n",
    "    r = 1\n",
    "    for j in range(2,i):\n",
    "        r *= i%j\n",
    "    if r != 0:\n",
    "        print(i, \"es un numero primo\")\n",
    "    \n",
    "        \n",
    "            "
   ]
  },
  {
   "attachments": {},
   "cell_type": "markdown",
   "metadata": {},
   "source": [
    "10) ¿Se puede mejorar el proceso del punto 9? Utilizar las sentencias break y/ó continue para tal fin"
   ]
  },
  {
   "cell_type": "code",
   "execution_count": 47,
   "metadata": {},
   "outputs": [
    {
     "name": "stdout",
     "output_type": "stream",
     "text": [
      "0 es un numero primo\n",
      "1 es un numero primo\n",
      "2 es un numero primo\n",
      "3 es un numero primo\n",
      "5 es un numero primo\n",
      "7 es un numero primo\n",
      "11 es un numero primo\n",
      "13 es un numero primo\n",
      "17 es un numero primo\n",
      "19 es un numero primo\n",
      "23 es un numero primo\n",
      "29 es un numero primo\n"
     ]
    }
   ],
   "source": [
    "for i in range(30):\n",
    "    r = 1\n",
    "    for j in range(2,i):\n",
    "        r *= i%j\n",
    "        if r ==0:\n",
    "            break\n",
    "    if r != 0:\n",
    "        print(i, \"es un numero primo\")"
   ]
  },
  {
   "attachments": {},
   "cell_type": "markdown",
   "metadata": {},
   "source": [
    "11) En los puntos 9 y 10, se diseño un código que encuentra números primos y además se lo optimizó. ¿Es posible saber en qué medida se optimizó?"
   ]
  },
  {
   "cell_type": "code",
   "execution_count": 50,
   "metadata": {},
   "outputs": [
    {
     "name": "stdout",
     "output_type": "stream",
     "text": [
      "0 es un numero primo\n",
      "1 es un numero primo\n",
      "2 es un numero primo\n",
      "3 es un numero primo\n",
      "5 es un numero primo\n",
      "7 es un numero primo\n",
      "11 es un numero primo\n",
      "13 es un numero primo\n",
      "17 es un numero primo\n",
      "19 es un numero primo\n",
      "23 es un numero primo\n",
      "29 es un numero primo\n",
      "0 es un numero primo\n",
      "1 es un numero primo\n",
      "2 es un numero primo\n",
      "3 es un numero primo\n",
      "5 es un numero primo\n",
      "7 es un numero primo\n",
      "11 es un numero primo\n",
      "13 es un numero primo\n",
      "17 es un numero primo\n",
      "19 es un numero primo\n",
      "23 es un numero primo\n",
      "29 es un numero primo\n",
      "134\n",
      "378\n",
      "Se optimizo un 64.55026455026456 %\n"
     ]
    }
   ],
   "source": [
    "ciclos = 0\n",
    "for i in range(30):\n",
    "    r = 1\n",
    "    for j in range(2,i):\n",
    "        r *= i%j\n",
    "        ciclos += 1\n",
    "        if r ==0:\n",
    "            break\n",
    "    if r != 0:\n",
    "        print(i, \"es un numero primo\")\n",
    "\n",
    "ciclos_con = 0\n",
    "for i in range(30):\n",
    "    r = 1\n",
    "    for j in range(2,i):\n",
    "        r *= i%j\n",
    "        ciclos_con +=1\n",
    "    if r != 0:\n",
    "        print(i, \"es un numero primo\")\n",
    "\n",
    "print(ciclos)\n",
    "print(ciclos_con)\n",
    "print(\"Se optimizo un\",(1-ciclos/ciclos_con)*100,\"%\")"
   ]
  },
  {
   "attachments": {},
   "cell_type": "markdown",
   "metadata": {},
   "source": [
    "12) Aplicando continue, armar un ciclo while que solo imprima los valores divisibles por 12, dentro del rango de números de 100 a 300"
   ]
  },
  {
   "cell_type": "code",
   "execution_count": 53,
   "metadata": {},
   "outputs": [
    {
     "name": "stdout",
     "output_type": "stream",
     "text": [
      "108 es multiplo de 12\n",
      "120 es multiplo de 12\n",
      "132 es multiplo de 12\n",
      "144 es multiplo de 12\n",
      "156 es multiplo de 12\n",
      "168 es multiplo de 12\n",
      "180 es multiplo de 12\n",
      "192 es multiplo de 12\n",
      "204 es multiplo de 12\n",
      "216 es multiplo de 12\n",
      "228 es multiplo de 12\n",
      "240 es multiplo de 12\n",
      "252 es multiplo de 12\n",
      "264 es multiplo de 12\n",
      "276 es multiplo de 12\n",
      "288 es multiplo de 12\n",
      "300 es multiplo de 12\n"
     ]
    }
   ],
   "source": [
    "rango_inferior = 99\n",
    "rango_superior = 300\n",
    "\n",
    "while rango_inferior <= rango_superior:\n",
    "    rango_inferior +=1\n",
    "    if rango_inferior%12!=0:\n",
    "        continue\n",
    "    print(rango_inferior,\"es multiplo de 12\")"
   ]
  },
  {
   "attachments": {},
   "cell_type": "markdown",
   "metadata": {},
   "source": [
    "13) Utilizar la función **input()** que permite hacer ingresos por teclado, para encontrar números primos y dar la opción al usario de buscar el siguiente"
   ]
  },
  {
   "cell_type": "code",
   "execution_count": 66,
   "metadata": {},
   "outputs": [
    {
     "name": "stdout",
     "output_type": "stream",
     "text": [
      "0 es un numero primo, desea encontrar el siguiente numero primo?\n",
      "cantidad de iteraciones totales: 0\n",
      "1 es un numero primo, desea encontrar el siguiente numero primo?\n",
      "cantidad de iteraciones totales: 0\n",
      "2 es un numero primo, desea encontrar el siguiente numero primo?\n",
      "cantidad de iteraciones totales: 0\n",
      "3 es un numero primo, desea encontrar el siguiente numero primo?\n",
      "cantidad de iteraciones totales: 1\n",
      "5 es un numero primo, desea encontrar el siguiente numero primo?\n",
      "cantidad de iteraciones totales: 5\n",
      "7 es un numero primo, desea encontrar el siguiente numero primo?\n",
      "cantidad de iteraciones totales: 11\n",
      "11 es un numero primo, desea encontrar el siguiente numero primo?\n",
      "cantidad de iteraciones totales: 24\n",
      "13 es un numero primo, desea encontrar el siguiente numero primo?\n",
      "cantidad de iteraciones totales: 36\n",
      "17 es un numero primo, desea encontrar el siguiente numero primo?\n",
      "cantidad de iteraciones totales: 55\n",
      "19 es un numero primo, desea encontrar el siguiente numero primo?\n",
      "cantidad de iteraciones totales: 73\n",
      "23 es un numero primo, desea encontrar el siguiente numero primo?\n",
      "cantidad de iteraciones totales: 98\n",
      "29 es un numero primo, desea encontrar el siguiente numero primo?\n",
      "cantidad de iteraciones totales: 134\n",
      "31 es un numero primo, desea encontrar el siguiente numero primo?\n",
      "cantidad de iteraciones totales: 164\n",
      "37 es un numero primo, desea encontrar el siguiente numero primo?\n",
      "cantidad de iteraciones totales: 208\n",
      "41 es un numero primo, desea encontrar el siguiente numero primo?\n",
      "cantidad de iteraciones totales: 251\n"
     ]
    },
    {
     "ename": "KeyboardInterrupt",
     "evalue": "Interrupted by user",
     "output_type": "error",
     "traceback": [
      "\u001b[1;31m---------------------------------------------------------------------------\u001b[0m",
      "\u001b[1;31mKeyboardInterrupt\u001b[0m                         Traceback (most recent call last)",
      "Cell \u001b[1;32mIn[66], line 15\u001b[0m\n\u001b[0;32m     13\u001b[0m \u001b[39mprint\u001b[39m(i, \u001b[39m\"\u001b[39m\u001b[39mes un numero primo, desea encontrar el siguiente numero primo?\u001b[39m\u001b[39m\"\u001b[39m)\n\u001b[0;32m     14\u001b[0m \u001b[39mprint\u001b[39m(\u001b[39m\"\u001b[39m\u001b[39mcantidad de iteraciones totales:\u001b[39m\u001b[39m\"\u001b[39m,ciclos)\n\u001b[1;32m---> 15\u001b[0m \u001b[39mif\u001b[39;00m (\u001b[39minput\u001b[39;49m() \u001b[39m!=\u001b[39m \u001b[39m\"\u001b[39m\u001b[39m1\u001b[39m\u001b[39m\"\u001b[39m):\n\u001b[0;32m     16\u001b[0m     \u001b[39mbreak\u001b[39;00m\n",
      "File \u001b[1;32m~\\AppData\\Local\\Packages\\PythonSoftwareFoundation.Python.3.11_qbz5n2kfra8p0\\LocalCache\\local-packages\\Python311\\site-packages\\ipykernel\\kernelbase.py:1202\u001b[0m, in \u001b[0;36mKernel.raw_input\u001b[1;34m(self, prompt)\u001b[0m\n\u001b[0;32m   1200\u001b[0m     msg \u001b[39m=\u001b[39m \u001b[39m\"\u001b[39m\u001b[39mraw_input was called, but this frontend does not support input requests.\u001b[39m\u001b[39m\"\u001b[39m\n\u001b[0;32m   1201\u001b[0m     \u001b[39mraise\u001b[39;00m StdinNotImplementedError(msg)\n\u001b[1;32m-> 1202\u001b[0m \u001b[39mreturn\u001b[39;00m \u001b[39mself\u001b[39;49m\u001b[39m.\u001b[39;49m_input_request(\n\u001b[0;32m   1203\u001b[0m     \u001b[39mstr\u001b[39;49m(prompt),\n\u001b[0;32m   1204\u001b[0m     \u001b[39mself\u001b[39;49m\u001b[39m.\u001b[39;49m_parent_ident[\u001b[39m\"\u001b[39;49m\u001b[39mshell\u001b[39;49m\u001b[39m\"\u001b[39;49m],\n\u001b[0;32m   1205\u001b[0m     \u001b[39mself\u001b[39;49m\u001b[39m.\u001b[39;49mget_parent(\u001b[39m\"\u001b[39;49m\u001b[39mshell\u001b[39;49m\u001b[39m\"\u001b[39;49m),\n\u001b[0;32m   1206\u001b[0m     password\u001b[39m=\u001b[39;49m\u001b[39mFalse\u001b[39;49;00m,\n\u001b[0;32m   1207\u001b[0m )\n",
      "File \u001b[1;32m~\\AppData\\Local\\Packages\\PythonSoftwareFoundation.Python.3.11_qbz5n2kfra8p0\\LocalCache\\local-packages\\Python311\\site-packages\\ipykernel\\kernelbase.py:1245\u001b[0m, in \u001b[0;36mKernel._input_request\u001b[1;34m(self, prompt, ident, parent, password)\u001b[0m\n\u001b[0;32m   1242\u001b[0m \u001b[39mexcept\u001b[39;00m \u001b[39mKeyboardInterrupt\u001b[39;00m:\n\u001b[0;32m   1243\u001b[0m     \u001b[39m# re-raise KeyboardInterrupt, to truncate traceback\u001b[39;00m\n\u001b[0;32m   1244\u001b[0m     msg \u001b[39m=\u001b[39m \u001b[39m\"\u001b[39m\u001b[39mInterrupted by user\u001b[39m\u001b[39m\"\u001b[39m\n\u001b[1;32m-> 1245\u001b[0m     \u001b[39mraise\u001b[39;00m \u001b[39mKeyboardInterrupt\u001b[39;00m(msg) \u001b[39mfrom\u001b[39;00m \u001b[39mNone\u001b[39;00m\n\u001b[0;32m   1246\u001b[0m \u001b[39mexcept\u001b[39;00m \u001b[39mException\u001b[39;00m:\n\u001b[0;32m   1247\u001b[0m     \u001b[39mself\u001b[39m\u001b[39m.\u001b[39mlog\u001b[39m.\u001b[39mwarning(\u001b[39m\"\u001b[39m\u001b[39mInvalid Message:\u001b[39m\u001b[39m\"\u001b[39m, exc_info\u001b[39m=\u001b[39m\u001b[39mTrue\u001b[39;00m)\n",
      "\u001b[1;31mKeyboardInterrupt\u001b[0m: Interrupted by user"
     ]
    }
   ],
   "source": [
    "ciclos = 0\n",
    "i = -1\n",
    "parar = 1\n",
    "while parar == 1:\n",
    "    r = 1\n",
    "    i+=1\n",
    "    for j in range(2,i):\n",
    "        r *= i%j\n",
    "        ciclos += 1\n",
    "        if r ==0:\n",
    "            break\n",
    "    if r != 0:\n",
    "        print(i, \"es un numero primo, desea encontrar el siguiente numero primo?\")\n",
    "        print(\"cantidad de iteraciones totales:\",ciclos)\n",
    "        if (input() != \"1\"):\n",
    "            break"
   ]
  },
  {
   "attachments": {},
   "cell_type": "markdown",
   "metadata": {},
   "source": [
    "14) Crear un ciclo while que encuentre dentro del rango de 100 a 300 el primer número divisible por 3 y además múltiplo de 6"
   ]
  },
  {
   "cell_type": "code",
   "execution_count": 67,
   "metadata": {},
   "outputs": [
    {
     "name": "stdout",
     "output_type": "stream",
     "text": [
      "102\n"
     ]
    }
   ],
   "source": [
    "i = 100\n",
    "while i <= 300:\n",
    "    if i%3 == 0 and i%6 == 0:\n",
    "        print(i)\n",
    "        break\n",
    "    i +=1"
   ]
  }
 ],
 "metadata": {
  "interpreter": {
   "hash": "c85384e4cb51c8b72350f3a8712cc8351fdc3955e32a27f9b60c6242ab125f01"
  },
  "kernelspec": {
   "display_name": "Python 3 (ipykernel)",
   "language": "python",
   "name": "python3"
  },
  "language_info": {
   "codemirror_mode": {
    "name": "ipython",
    "version": 3
   },
   "file_extension": ".py",
   "mimetype": "text/x-python",
   "name": "python",
   "nbconvert_exporter": "python",
   "pygments_lexer": "ipython3",
   "version": "3.11.4"
  }
 },
 "nbformat": 4,
 "nbformat_minor": 4
}
