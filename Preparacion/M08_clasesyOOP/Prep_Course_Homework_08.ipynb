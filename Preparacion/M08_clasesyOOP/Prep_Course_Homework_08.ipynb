{
 "cells": [
  {
   "attachments": {},
   "cell_type": "markdown",
   "metadata": {},
   "source": [
    "## Clases y Programación Orientada a Objetos"
   ]
  },
  {
   "attachments": {},
   "cell_type": "markdown",
   "metadata": {},
   "source": [
    "1) Crear la clase vehículo que contenga los atributos:<br>\n",
    "Color<br>\n",
    "Si es moto, auto, camioneta ó camión<br>\n",
    "Cilindrada del motor"
   ]
  },
  {
   "cell_type": "code",
   "execution_count": 3,
   "metadata": {},
   "outputs": [],
   "source": [
    "class Vehiculo:\n",
    "    def __init__(self,color,tipo,cil):\n",
    "        self.color = color\n",
    "        self.tipo = tipo\n",
    "        self.cil = cil\n",
    "\n",
    "\n",
    "\n"
   ]
  },
  {
   "attachments": {},
   "cell_type": "markdown",
   "metadata": {},
   "source": [
    "2) A la clase Vehiculo creada en el punto 1, agregar los siguientes métodos:<br>\n",
    "Acelerar<br>\n",
    "Frenar<br>\n",
    "Doblar<br>"
   ]
  },
  {
   "cell_type": "code",
   "execution_count": 4,
   "metadata": {},
   "outputs": [],
   "source": [
    "class Vehiculo:\n",
    "    def __init__(self,color,tipo,cil):\n",
    "        self.color = color\n",
    "        self.tipo = tipo\n",
    "        self.cil = cil\n",
    "        self.velocidad = 0\n",
    "        self.direccion = 0\n",
    "    \n",
    "    def acelerar(self,vel):\n",
    "        self.velocidad += vel\n",
    "    \n",
    "    def frenar(self,vel):\n",
    "        self.velocidad -= vel\n",
    "    \n",
    "    def doblar(self,grados):\n",
    "        self.direccion += grados\n",
    "\n"
   ]
  },
  {
   "attachments": {},
   "cell_type": "markdown",
   "metadata": {},
   "source": [
    "3) Instanciar 3 objetos de la clase vehículo y ejecutar sus métodos, probar luego el resultado"
   ]
  },
  {
   "cell_type": "code",
   "execution_count": 9,
   "metadata": {},
   "outputs": [
    {
     "name": "stdout",
     "output_type": "stream",
     "text": [
      "10\n",
      "30\n"
     ]
    }
   ],
   "source": [
    "ferrari = Vehiculo(\"Gris\",\"Auto\",120)\n",
    "\n",
    "ferrari.acelerar(20)\n",
    "ferrari.frenar(10)\n",
    "ferrari.doblar(30)\n",
    "\n",
    "print(ferrari.velocidad)\n",
    "print(ferrari.direccion)\n"
   ]
  },
  {
   "attachments": {},
   "cell_type": "markdown",
   "metadata": {},
   "source": [
    "4) Agregar a la clase Vehiculo, un método que muestre su estado, es decir, a que velocidad se encuentra y su dirección. Y otro método que muestre color, tipo y cilindrada"
   ]
  },
  {
   "cell_type": "code",
   "execution_count": 12,
   "metadata": {},
   "outputs": [
    {
     "name": "stdout",
     "output_type": "stream",
     "text": [
      "Es un Auto de color Gris de 120 cilindradas\n",
      "El vehiculo se mueve a 10 km/h en direccion de 30 grados\n"
     ]
    }
   ],
   "source": [
    "class Vehiculo:\n",
    "    def __init__(self,color,tipo,cil):\n",
    "        self.color = color\n",
    "        self.tipo = tipo\n",
    "        self.cil = cil\n",
    "        self.velocidad = 0\n",
    "        self.direccion = 0\n",
    "    \n",
    "    def acelerar(self,vel):\n",
    "        self.velocidad += vel\n",
    "    \n",
    "    def frenar(self,vel):\n",
    "        self.velocidad -= vel\n",
    "    \n",
    "    def doblar(self,grados):\n",
    "        self.direccion += grados\n",
    "    \n",
    "    def descripcion(self):\n",
    "        print(\"Es un\",self.tipo,\"de color\",self.color,\"de\",self.cil,\"cilindradas\")\n",
    "    \n",
    "    def estado(self):\n",
    "        print(\"El vehiculo se mueve a\",self.velocidad,\"km/h en direccion de\",self.direccion,\"grados\")\n",
    "\n",
    "ferrari = Vehiculo(\"Gris\",\"Auto\",120)\n",
    "\n",
    "ferrari.acelerar(20)\n",
    "ferrari.frenar(10)\n",
    "ferrari.doblar(30)\n",
    "ferrari.descripcion()\n",
    "ferrari.estado()"
   ]
  },
  {
   "attachments": {},
   "cell_type": "markdown",
   "metadata": {},
   "source": [
    "5) Crear una clase que permita utilizar las funciones creadas en la práctica del módulo 7<br>\n",
    "Verificar Primo<br>\n",
    "Valor modal<br>\n",
    "Conversión grados<br>\n",
    "Factorial<br>"
   ]
  },
  {
   "cell_type": "code",
   "execution_count": 22,
   "metadata": {},
   "outputs": [
    {
     "name": "stdout",
     "output_type": "stream",
     "text": [
      "120\n",
      "4\n",
      "4.444444444444445\n",
      "True\n"
     ]
    }
   ],
   "source": [
    "class Herramientas:\n",
    "    def __init__(self) -> None:\n",
    "        pass\n",
    "\n",
    "    def primo(self,pri):\n",
    "        r = 1\n",
    "        for i in range(2,pri):\n",
    "            r *= pri%i\n",
    "        if r ==0:\n",
    "            return False\n",
    "        else:\n",
    "            return True\n",
    "    \n",
    "    def moda(self,m):\n",
    "        dic = {}\n",
    "        for i in m:\n",
    "            amount = 0\n",
    "            for j in m:\n",
    "                if j == i:\n",
    "                    amount +=1\n",
    "            dic[i] = amount\n",
    "        max = 0\n",
    "        for i in dic:\n",
    "            if dic[i] > max:\n",
    "                max = dic[i]\n",
    "                ind_max = i\n",
    "        return ind_max,max\n",
    "\n",
    "    def conversor_temperaturas(self,valor, origen, destino):\n",
    "        if origen == \"C\":\n",
    "            if destino == \"K\":\n",
    "                valor_final = valor + 273.15\n",
    "            else:\n",
    "                valor_final = valor*9/5 + 32\n",
    "        elif origen == \"K\":\n",
    "            if destino == \"C\":\n",
    "                valor_final = valor - 273.15\n",
    "            else:\n",
    "                valor_final = (valor - 273.15)*(9/5) +32\n",
    "        else:\n",
    "            if destino ==\"C\":\n",
    "                valor_final = (valor - 32)/(9/5)\n",
    "            else:\n",
    "                valor_final = (valor - 32)/(9/5) + 273.15\n",
    "        return valor_final\n",
    "    \n",
    "    def fact(self,x):\n",
    "        if not(type(x) == int):\n",
    "            print(\"El valor no es factorizable\")\n",
    "        elif x == 1:\n",
    "            return 1\n",
    "        elif x < 1:\n",
    "            print(\"El numero debe ser positivo\")\n",
    "        else:\n",
    "            x = x * self.fact(x - 1)\n",
    "        return x\n",
    "    \n"
   ]
  },
  {
   "attachments": {},
   "cell_type": "markdown",
   "metadata": {},
   "source": [
    "6) Probar las funciones incorporadas en la clase del punto 5"
   ]
  },
  {
   "cell_type": "code",
   "execution_count": 24,
   "metadata": {},
   "outputs": [
    {
     "name": "stdout",
     "output_type": "stream",
     "text": [
      "120\n",
      "4\n",
      "4.444444444444445\n",
      "True\n"
     ]
    }
   ],
   "source": [
    "h = Herramientas()\n",
    "\n",
    "a = (1,2,3,4,1,5,1,6,1,7)\n",
    "print(h.fact(5))\n",
    "print(h.moda(a)[1])\n",
    "print(h.conversor_temperaturas(40,\"F\",\"C\"))\n",
    "print(h.primo(7))"
   ]
  },
  {
   "attachments": {},
   "cell_type": "markdown",
   "metadata": {},
   "source": [
    "7) Es necesario que la clase creada en el punto 5 contenga una lista, sobre la cual se apliquen las funciones incorporadas"
   ]
  },
  {
   "cell_type": "code",
   "execution_count": 25,
   "metadata": {},
   "outputs": [],
   "source": [
    "class Herramientas:\n",
    "    def __init__(self,lista):\n",
    "        self.lista = lista\n",
    "\n",
    "    def verificar_primo(self):\n",
    "        for i in self.lista:\n",
    "            if (self.primo(i)):\n",
    "                print(\"El item\",i,\"es numero primo\")\n",
    "            else:\n",
    "                print(\"El item\",i,\"no es numero primo\")\n",
    "\n",
    "    def temperaturas(self,origen,destino):\n",
    "        for i in self.lista:\n",
    "            print(i,\"grados\",origen,\"equivalen a\",self.conversor_temperaturas(i,origen,destino),\"grados\",destino)\n",
    "\n",
    "    def factoriales(self):\n",
    "        for i in self.lista:\n",
    "            print(\"El factorial del numero\",i,\"es\",self.fact(i))\n",
    "\n",
    "    def primo(self,pri):\n",
    "        r = 1\n",
    "        for i in range(2,pri):\n",
    "            r *= pri%i\n",
    "        if r ==0:\n",
    "            return False\n",
    "        else:\n",
    "            return True\n",
    "    \n",
    "    def moda(self):\n",
    "        dic = {}\n",
    "        for i in self.lista:\n",
    "            amount = 0\n",
    "            for j in self.lista:\n",
    "                if j == i:\n",
    "                    amount +=1\n",
    "            dic[i] = amount\n",
    "        max = 0\n",
    "        for i in dic:\n",
    "            if dic[i] > max:\n",
    "                max = dic[i]\n",
    "                ind_max = i\n",
    "        return ind_max,max\n",
    "\n",
    "    def conversor_temperaturas(self,valor, origen, destino):\n",
    "        if origen == \"C\":\n",
    "            if destino == \"K\":\n",
    "                valor_final = valor + 273.15\n",
    "            else:\n",
    "                valor_final = valor*9/5 + 32\n",
    "        elif origen == \"K\":\n",
    "            if destino == \"C\":\n",
    "                valor_final = valor - 273.15\n",
    "            else:\n",
    "                valor_final = (valor - 273.15)*(9/5) +32\n",
    "        else:\n",
    "            if destino ==\"C\":\n",
    "                valor_final = (valor - 32)/(9/5)\n",
    "            else:\n",
    "                valor_final = (valor - 32)/(9/5) + 273.15\n",
    "        return valor_final\n",
    "    \n",
    "    def fact(self,x):\n",
    "        if not(type(x) == int):\n",
    "            print(\"El valor no es factorizable\")\n",
    "        elif x == 1:\n",
    "            return 1\n",
    "        elif x < 1:\n",
    "            print(\"El numero debe ser positivo\")\n",
    "        else:\n",
    "            x = x * self.fact(x - 1)\n",
    "        return x"
   ]
  },
  {
   "attachments": {},
   "cell_type": "markdown",
   "metadata": {},
   "source": [
    "8) Crear un archivo .py aparte y ubicar allí la clase generada en el punto anterior. Luego realizar la importación del módulo y probar alguna de sus funciones"
   ]
  },
  {
   "cell_type": "code",
   "execution_count": 33,
   "metadata": {},
   "outputs": [
    {
     "data": {
      "text/plain": [
       "1"
      ]
     },
     "execution_count": 33,
     "metadata": {},
     "output_type": "execute_result"
    }
   ],
   "source": [
    "import Her\n",
    "\n",
    "a = [1,2,3,4,1,5,1,6,1,7]\n",
    "h = Herramientas(a)\n",
    "\n",
    "h.moda()[0]\n"
   ]
  }
 ],
 "metadata": {
  "interpreter": {
   "hash": "c85384e4cb51c8b72350f3a8712cc8351fdc3955e32a27f9b60c6242ab125f01"
  },
  "kernelspec": {
   "display_name": "Python 3 (ipykernel)",
   "language": "python",
   "name": "python3"
  },
  "language_info": {
   "codemirror_mode": {
    "name": "ipython",
    "version": 3
   },
   "file_extension": ".py",
   "mimetype": "text/x-python",
   "name": "python",
   "nbconvert_exporter": "python",
   "pygments_lexer": "ipython3",
   "version": "3.11.4"
  }
 },
 "nbformat": 4,
 "nbformat_minor": 4
}
