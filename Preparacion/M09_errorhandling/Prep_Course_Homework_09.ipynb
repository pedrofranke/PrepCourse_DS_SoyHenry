{
 "cells": [
  {
   "attachments": {},
   "cell_type": "markdown",
   "metadata": {},
   "source": [
    "## Manejo de errores"
   ]
  },
  {
   "attachments": {},
   "cell_type": "markdown",
   "metadata": {},
   "source": [
    "1) Con la clase creada en el módulo 7, tener en cuenta diferentes casos en que el código pudiera arrojar error. Por ejemplo, en la creación del objeto recibimos una lista de números enteros pero ¿qué pasa si se envía otro tipo de dato?"
   ]
  },
  {
   "cell_type": "code",
   "execution_count": 43,
   "metadata": {},
   "outputs": [
    {
     "ename": "TypeError",
     "evalue": "('El elemento', 3, 'de la lista no es un numero entero y positivo:', -7)",
     "output_type": "error",
     "traceback": [
      "\u001b[1;31m---------------------------------------------------------------------------\u001b[0m",
      "\u001b[1;31mTypeError\u001b[0m                                 Traceback (most recent call last)",
      "Cell \u001b[1;32mIn[43], line 7\u001b[0m\n\u001b[0;32m      4\u001b[0m importlib\u001b[39m.\u001b[39mreload(Her)\n\u001b[0;32m      6\u001b[0m a \u001b[39m=\u001b[39m [\u001b[39m4\u001b[39m,\u001b[39m5\u001b[39m,\u001b[39m6\u001b[39m,\u001b[39m-\u001b[39m\u001b[39m7\u001b[39m]\n\u001b[1;32m----> 7\u001b[0m h \u001b[39m=\u001b[39m Her\u001b[39m.\u001b[39;49mHerramientas(a)\n\u001b[0;32m      9\u001b[0m h\u001b[39m.\u001b[39mtemperaturas(\u001b[39m\"\u001b[39m\u001b[39mC\u001b[39m\u001b[39m\"\u001b[39m,\u001b[39m\"\u001b[39m\u001b[39mF\u001b[39m\u001b[39m\"\u001b[39m)\n",
      "File \u001b[1;32mc:\\Users\\pedro\\OneDrive\\Pedro\\Aprender\\Cursos\\Data\\Data Science\\Soy Henry\\PreCourse\\Python-Prep\\M09_errorhandling\\Her.py:10\u001b[0m, in \u001b[0;36mHerramientas.__init__\u001b[1;34m(self, lista)\u001b[0m\n\u001b[0;32m      8\u001b[0m \u001b[39mfor\u001b[39;00m i \u001b[39min\u001b[39;00m \u001b[39mself\u001b[39m\u001b[39m.\u001b[39mlista:\n\u001b[0;32m      9\u001b[0m     \u001b[39mif\u001b[39;00m (\u001b[39mtype\u001b[39m(i) \u001b[39m!=\u001b[39m \u001b[39mint\u001b[39m) \u001b[39m^\u001b[39m (i \u001b[39m<\u001b[39m \u001b[39m0\u001b[39m):\n\u001b[1;32m---> 10\u001b[0m         \u001b[39mraise\u001b[39;00m \u001b[39mTypeError\u001b[39;00m(\u001b[39m\"\u001b[39m\u001b[39mEl elemento\u001b[39m\u001b[39m\"\u001b[39m,count,\u001b[39m\"\u001b[39m\u001b[39mde la lista no es un numero entero y positivo:\u001b[39m\u001b[39m\"\u001b[39m,i)\n\u001b[0;32m     11\u001b[0m     count \u001b[39m+\u001b[39m\u001b[39m=\u001b[39m\u001b[39m1\u001b[39m\n",
      "\u001b[1;31mTypeError\u001b[0m: ('El elemento', 3, 'de la lista no es un numero entero y positivo:', -7)"
     ]
    }
   ],
   "source": [
    "import Her\n",
    "import importlib\n",
    "\n",
    "importlib.reload(Her)\n",
    "\n",
    "a = [4,5,6,-7]\n",
    "h = Her.Herramientas(a)\n",
    "\n",
    "h.temperaturas(\"C\",\"F\")\n",
    "\n"
   ]
  },
  {
   "attachments": {},
   "cell_type": "markdown",
   "metadata": {},
   "source": [
    "2) En la función que hace la conversión de grados, validar que los parámetros enviados sean los esperados, de no serlo, informar cuáles son los valores esperados."
   ]
  },
  {
   "cell_type": "code",
   "execution_count": null,
   "metadata": {},
   "outputs": [],
   "source": []
  },
  {
   "attachments": {},
   "cell_type": "markdown",
   "metadata": {},
   "source": [
    "3) Importar el modulo \"unittest\" y crear los siguientes casos de pruebas sobre la clase utilizada en el punto 2<br>\n",
    "Creacion del objeto incorrecta<br>\n",
    "Creacion correcta del objeto<br>\n",
    "Metodo valor_modal()<br>\n",
    "\n",
    "Se puede usar \"raise ValueError()\" en la creación de la clase para verificar el error. Investigar sobre esta funcionalidad."
   ]
  },
  {
   "cell_type": "code",
   "execution_count": 79,
   "metadata": {},
   "outputs": [
    {
     "name": "stderr",
     "output_type": "stream",
     "text": [
      "test_objeto_correcto (__main__.TestErrores.test_objeto_correcto) ... ok\n",
      "test_objeto_incorrecto (__main__.TestErrores.test_objeto_incorrecto) ... ok\n",
      "test_objeto_modal (__main__.TestErrores.test_objeto_modal) ... ok\n",
      "\n",
      "----------------------------------------------------------------------\n",
      "Ran 3 tests in 0.010s\n",
      "\n",
      "OK\n"
     ]
    },
    {
     "data": {
      "text/plain": [
       "<unittest.main.TestProgram at 0x1eac7a87410>"
      ]
     },
     "execution_count": 79,
     "metadata": {},
     "output_type": "execute_result"
    }
   ],
   "source": [
    "import unittest\n",
    "import importlib\n",
    "\n",
    "importlib.reload(Her)\n",
    "\n",
    "class TestErrores(unittest.TestCase):\n",
    "\n",
    "    def test_objeto_incorrecto(self):\n",
    "        param = \"Hola\"\n",
    "        self.assertRaises(TypeError,Her.Herramientas,param)\n",
    "\n",
    "    def test_objeto_correcto(self):\n",
    "        param = [1,2,3,4]\n",
    "        h = Her.Herramientas(param)\n",
    "        self.assertEqual(h.lista,param)\n",
    "\n",
    "    def test_objeto_modal(self):\n",
    "        param = [1,2,3,4,1,1,1]\n",
    "        h = Her.Herramientas(param)\n",
    "        resultado = h.moda()\n",
    "        correcto = [1,4]\n",
    "        self.assertEqual(resultado,correcto)\n",
    "\n",
    "unittest.main(argv=[\"\"], verbosity = 2,exit=False)\n",
    "\n"
   ]
  },
  {
   "attachments": {},
   "cell_type": "markdown",
   "metadata": {},
   "source": [
    "4) Probar una creación incorrecta y visualizar la salida del \"raise\""
   ]
  },
  {
   "cell_type": "code",
   "execution_count": 82,
   "metadata": {},
   "outputs": [
    {
     "ename": "TypeError",
     "evalue": "('El elemento', 4, 'de la lista no es un numero entero:', 'Hola')",
     "output_type": "error",
     "traceback": [
      "\u001b[1;31m---------------------------------------------------------------------------\u001b[0m",
      "\u001b[1;31mTypeError\u001b[0m                                 Traceback (most recent call last)",
      "Cell \u001b[1;32mIn[82], line 7\u001b[0m\n\u001b[0;32m      3\u001b[0m importlib\u001b[39m.\u001b[39mreload(Her)\n\u001b[0;32m      5\u001b[0m param \u001b[39m=\u001b[39m [\u001b[39m1\u001b[39m,\u001b[39m2\u001b[39m,\u001b[39m3\u001b[39m,\u001b[39m4\u001b[39m,\u001b[39m\"\u001b[39m\u001b[39mHola\u001b[39m\u001b[39m\"\u001b[39m]\n\u001b[1;32m----> 7\u001b[0m h \u001b[39m=\u001b[39m Her\u001b[39m.\u001b[39;49mHerramientas(param)\n",
      "File \u001b[1;32mc:\\Users\\pedro\\OneDrive\\Pedro\\Aprender\\Cursos\\Data\\Data Science\\Soy Henry\\PreCourse\\Python-Prep\\M09_errorhandling\\Her.py:10\u001b[0m, in \u001b[0;36mHerramientas.__init__\u001b[1;34m(self, lista)\u001b[0m\n\u001b[0;32m      8\u001b[0m \u001b[39mfor\u001b[39;00m i \u001b[39min\u001b[39;00m \u001b[39mself\u001b[39m\u001b[39m.\u001b[39mlista:\n\u001b[0;32m      9\u001b[0m     \u001b[39mif\u001b[39;00m (\u001b[39mtype\u001b[39m(i) \u001b[39m!=\u001b[39m \u001b[39mint\u001b[39m):\n\u001b[1;32m---> 10\u001b[0m         \u001b[39mraise\u001b[39;00m \u001b[39mTypeError\u001b[39;00m(\u001b[39m\"\u001b[39m\u001b[39mEl elemento\u001b[39m\u001b[39m\"\u001b[39m,count,\u001b[39m\"\u001b[39m\u001b[39mde la lista no es un numero entero:\u001b[39m\u001b[39m\"\u001b[39m,i)\n\u001b[0;32m     11\u001b[0m     \u001b[39mif\u001b[39;00m i \u001b[39m<\u001b[39m \u001b[39m0\u001b[39m:\n\u001b[0;32m     12\u001b[0m         \u001b[39mraise\u001b[39;00m \u001b[39mTypeError\u001b[39;00m(\u001b[39m\"\u001b[39m\u001b[39mEl elemento\u001b[39m\u001b[39m\"\u001b[39m,count,\u001b[39m\"\u001b[39m\u001b[39mes un numero negativo:\u001b[39m\u001b[39m\"\u001b[39m,i)\n",
      "\u001b[1;31mTypeError\u001b[0m: ('El elemento', 4, 'de la lista no es un numero entero:', 'Hola')"
     ]
    }
   ],
   "source": [
    "import importlib\n",
    "\n",
    "importlib.reload(Her)\n",
    "\n",
    "param = [1,2,3,4,\"Hola\"]\n",
    "\n",
    "h = Her.Herramientas(param)"
   ]
  },
  {
   "attachments": {},
   "cell_type": "markdown",
   "metadata": {},
   "source": [
    "6) Agregar casos de pruebas para el método verifica_primos() realizando el cambio en la clase, para que devuelva una lista de True o False en función de que el elemento en la posisicón sea o no primo"
   ]
  },
  {
   "cell_type": "code",
   "execution_count": 85,
   "metadata": {},
   "outputs": [
    {
     "name": "stderr",
     "output_type": "stream",
     "text": [
      "test_objeto_correcto (__main__.TestErrores.test_objeto_correcto) ... ok\n",
      "test_objeto_incorrecto (__main__.TestErrores.test_objeto_incorrecto) ... ok\n",
      "test_objeto_modal (__main__.TestErrores.test_objeto_modal) ... ok\n",
      "test_objeto_primo (__main__.TestErrores.test_objeto_primo) ... ok\n",
      "\n",
      "----------------------------------------------------------------------\n",
      "Ran 4 tests in 0.015s\n",
      "\n",
      "OK\n"
     ]
    },
    {
     "data": {
      "text/plain": [
       "<unittest.main.TestProgram at 0x1eac7872dd0>"
      ]
     },
     "execution_count": 85,
     "metadata": {},
     "output_type": "execute_result"
    }
   ],
   "source": [
    "import unittest\n",
    "import importlib\n",
    "\n",
    "importlib.reload(Her)\n",
    "\n",
    "class TestErrores(unittest.TestCase):\n",
    "\n",
    "    def test_objeto_incorrecto(self):\n",
    "        param = \"Hola\"\n",
    "        self.assertRaises(TypeError,Her.Herramientas,param)\n",
    "\n",
    "    def test_objeto_correcto(self):\n",
    "        param = [1,2,3,4]\n",
    "        h = Her.Herramientas(param)\n",
    "        self.assertEqual(h.lista,param)\n",
    "\n",
    "    def test_objeto_modal(self):\n",
    "        param = [1,2,3,4,1,1,1]\n",
    "        h = Her.Herramientas(param)\n",
    "        resultado = h.moda()\n",
    "        correcto = [1,4]\n",
    "        self.assertEqual(resultado,correcto)\n",
    "\n",
    "    def test_objeto_primo(self):\n",
    "        param = [1,2,3,4,5,6,7,8,9]\n",
    "        h = Her.Herramientas(param)\n",
    "        resultado = h.verificar_primo()\n",
    "        correcto = [True,True,True,False,True,False,True,False,False]\n",
    "        self.assertEqual(resultado,correcto)\n",
    "\n",
    "unittest.main(argv=[\"\"], verbosity = 2,exit=False)"
   ]
  },
  {
   "attachments": {},
   "cell_type": "markdown",
   "metadata": {},
   "source": [
    "7) Agregar casos de pruebas para el método conversion_grados()"
   ]
  },
  {
   "cell_type": "code",
   "execution_count": null,
   "metadata": {},
   "outputs": [],
   "source": []
  },
  {
   "attachments": {},
   "cell_type": "markdown",
   "metadata": {},
   "source": [
    "8) Agregar casos de pruebas para el método factorial()"
   ]
  },
  {
   "cell_type": "code",
   "execution_count": null,
   "metadata": {},
   "outputs": [],
   "source": []
  }
 ],
 "metadata": {
  "interpreter": {
   "hash": "c85384e4cb51c8b72350f3a8712cc8351fdc3955e32a27f9b60c6242ab125f01"
  },
  "kernelspec": {
   "display_name": "Python 3 (ipykernel)",
   "language": "python",
   "name": "python3"
  },
  "language_info": {
   "codemirror_mode": {
    "name": "ipython",
    "version": 3
   },
   "file_extension": ".py",
   "mimetype": "text/x-python",
   "name": "python",
   "nbconvert_exporter": "python",
   "pygments_lexer": "ipython3",
   "version": "3.11.4"
  }
 },
 "nbformat": 4,
 "nbformat_minor": 4
}
